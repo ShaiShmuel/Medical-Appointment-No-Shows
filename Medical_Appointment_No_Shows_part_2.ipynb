{
  "nbformat": 4,
  "nbformat_minor": 0,
  "metadata": {
    "colab": {
      "provenance": []
    },
    "kernelspec": {
      "name": "python3",
      "display_name": "Python 3"
    },
    "language_info": {
      "name": "python"
    }
  },
  "cells": [
    {
      "cell_type": "markdown",
      "source": [
        "##Part 2 - Advanced Model Analysis, Optimization, and Conclusions"
      ],
      "metadata": {
        "id": "OV0qtCaH5bUJ"
      }
    },
    {
      "cell_type": "markdown",
      "source": [
        "Introduction\n",
        "In Part 2 of this project, the focus is on improving the baseline regression model developed in Part 1.\n",
        "This involves addressing errors identified during the error analysis, enhancing the model pipeline through preprocessing, feature engineering, and hyperparameter tuning, and analyzing the improved model's performance."
      ],
      "metadata": {
        "id": "2-nd1fcW9Hn0"
      }
    },
    {
      "cell_type": "markdown",
      "source": [
        "### 1. Error Analysis Conclusions & work plan"
      ],
      "metadata": {
        "id": "M4nO5BEscVdE"
      }
    },
    {
      "cell_type": "markdown",
      "source": [
        "**Error Analysis Summary**\n",
        "\n",
        "There are several key issues in the initial model:\n",
        "\n",
        "1. Class Imbalance:\n",
        "  *   The dataset has significantly more \"Attended\" cases (17,669) compared to \"Missed\" cases (4,437). This imbalance biases the model toward the majority class.\n",
        "\n",
        "  *   Recall for the \"Missed\" class is very low (6%), indicating the model struggles to identify no-shows.\n",
        "\n",
        "2. Feature Importance:\n",
        "\n",
        "  *   Features like Neighbourhood contribute minimally to the prediction despite having many dummy variables, increasing model complexity and the risk of overfitting.\n",
        "  *   Uninformative features like AppointmentID and PatientID are mistakenly considered important by the model, suggesting overfitting.\n",
        "\n",
        "3. Age Group Errors:\n",
        "\n",
        "  *   False negatives (predicted \"Attended\" but actually \"Missed\") are concentrated in younger age groups (0–30), where the model underestimates the likelihood of no-shows.\n",
        "\n",
        "  *   Errors decrease for older age groups, indicating better performance for patients above 60 years old.\n",
        "\n",
        "4. Predictive Features:\n",
        "\n",
        "  *   Features such as SMS_received and DayOfWeek have predictive power and should be retained.\n",
        "\n",
        "  *   Features like Scholarship are minimally impactful.\n",
        "\n",
        "5. Overestimation of \"Attended\" Class:\n",
        "\n",
        "  *   The model overpredicts \"Attended,\" leading to a high number of false negatives for the \"Missed\" class."
      ],
      "metadata": {
        "id": "rPLWbtRrch1G"
      }
    },
    {
      "cell_type": "markdown",
      "source": [
        "**Work Plan to Address Errors**\n",
        "\n",
        "1. Handle Class Imbalance:\n",
        "  * Use techniques like oversampling the \"Missed\" class, undersampling the \"Attended\" class, or employing weighted loss functions to address class imbalance.\n",
        "\n",
        "2. Feature Selection:\n",
        "  * Remove uninformative features (AppointmentID, PatientID) that may lead to overfitting.\n",
        "  * Simplify the Neighbourhood variable by reducing the number of dummy variables (e.g., grouping similar neighborhoods).\n",
        "\n",
        "\n",
        "3. Algorithm Improvements:\n",
        "  * Better handling of imbalanced data.\n",
        "  * Experiment with hyperparameter tuning to improve the model's ability to generalize.\n",
        "\n",
        "\n",
        "4. Error Focused Training:\n",
        "  * Analyze errors for younger age groups (0–30) and create targeted features or adjustments for this demographic.\n",
        "  * Penalize the model more for missing \"Missed\" predictions.\n",
        "\n",
        "\n",
        "5. Reevaluate Feature Engineering:\n",
        "  * Investigate interaction terms (e.g., age and SMS_received) and temporal patterns (e.g., trends over time or days of the week).\n",
        "\n",
        "\n",
        "6. Evaluation Metrics:\n",
        "  * Include additional metrics like F1-score for the \"Missed\" class to provide a balanced view of performance.\n",
        "\n"
      ],
      "metadata": {
        "id": "z4inQR0YkC94"
      }
    },
    {
      "cell_type": "markdown",
      "source": [
        "### 2. Improving Model Performance"
      ],
      "metadata": {
        "id": "rqybo5d7xziQ"
      }
    },
    {
      "cell_type": "markdown",
      "source": [
        "###Baseline Model Summary\n",
        "\n",
        "\n",
        "The baseline model used was likely a logistic regression or a similar classifier to establish initial performance metrics. Key insights include:\n",
        "\n",
        "1. Performance Metrics:\n",
        "\n",
        "  * Class 0 (Attended):\n",
        "    * Precision: 81% (Correctly identifies 81% of attendees.)\n",
        "    * Recall: 99% (Catches almost all attendees.)\n",
        "\n",
        "  * Class 1 (Missed):\n",
        "    * Precision: 51% (Only half of predicted no-shows are correct.)\n",
        "    * Recall: 6% (Misses 94% of actual no-shows.)\n",
        "\n",
        "2. Strengths:\n",
        "\n",
        "  * The model performs well in identifying attendees, likely due to the dominance of the \"Attended\" class.\n",
        "\n",
        "3. Weaknesses:\n",
        "\n",
        "  * The model struggles with no-shows, highlighting class imbalance as a major issue.\n",
        "  * Some features (e.g., Neighbourhood, AppointmentID) appear to increase complexity without contributing much to prediction accuracy.\n",
        "\n",
        "4. Error Analysis:\n",
        "\n",
        "  * Younger patients (0–30 years) are prone to being misclassified as attendees.\n",
        "  * Features like SMS_received and DayOfWeek show clear patterns affecting attendance, while others (e.g., Scholarship) have minimal impact"
      ],
      "metadata": {
        "id": "Bl0Pt2lmvmAo"
      }
    },
    {
      "cell_type": "code",
      "source": [
        "# fix versions error\n",
        "!pip install scikit-learn==1.3.0 --upgrade -q\n",
        "!pip install xgboost --upgrade -q"
      ],
      "metadata": {
        "id": "F8oOz3mczrBb"
      },
      "execution_count": 1,
      "outputs": []
    },
    {
      "cell_type": "code",
      "source": [
        "import kagglehub\n",
        "\n",
        "# Download latest version\n",
        "path = kagglehub.dataset_download(\"joniarroba/noshowappointments\")\n",
        "\n",
        "print(\"Path to dataset files:\", path)"
      ],
      "metadata": {
        "colab": {
          "base_uri": "https://localhost:8080/"
        },
        "id": "vM427OBWcYx-",
        "outputId": "bac4c8f7-f66b-4af7-ee69-cefbaa85b9b6"
      },
      "execution_count": 2,
      "outputs": [
        {
          "output_type": "stream",
          "name": "stdout",
          "text": [
            "Path to dataset files: /root/.cache/kagglehub/datasets/joniarroba/noshowappointments/versions/5\n"
          ]
        }
      ]
    },
    {
      "cell_type": "code",
      "source": [
        "import pandas as pd\n",
        "import matplotlib.pyplot as plt\n",
        "\n",
        "no_show_df = pd.read_csv(f'{path}/KaggleV2-May-2016.csv')\n",
        "no_show_df.head()"
      ],
      "metadata": {
        "colab": {
          "base_uri": "https://localhost:8080/",
          "height": 330
        },
        "id": "QVc1wVye2puU",
        "outputId": "c3ff3bd2-730e-4709-c179-f68964c8a9e7"
      },
      "execution_count": 77,
      "outputs": [
        {
          "output_type": "execute_result",
          "data": {
            "text/plain": [
              "      PatientId  AppointmentID Gender          ScheduledDay  \\\n",
              "0  2.987250e+13        5642903      F  2016-04-29T18:38:08Z   \n",
              "1  5.589978e+14        5642503      M  2016-04-29T16:08:27Z   \n",
              "2  4.262962e+12        5642549      F  2016-04-29T16:19:04Z   \n",
              "3  8.679512e+11        5642828      F  2016-04-29T17:29:31Z   \n",
              "4  8.841186e+12        5642494      F  2016-04-29T16:07:23Z   \n",
              "\n",
              "         AppointmentDay  Age      Neighbourhood  Scholarship  Hipertension  \\\n",
              "0  2016-04-29T00:00:00Z   62    JARDIM DA PENHA            0             1   \n",
              "1  2016-04-29T00:00:00Z   56    JARDIM DA PENHA            0             0   \n",
              "2  2016-04-29T00:00:00Z   62      MATA DA PRAIA            0             0   \n",
              "3  2016-04-29T00:00:00Z    8  PONTAL DE CAMBURI            0             0   \n",
              "4  2016-04-29T00:00:00Z   56    JARDIM DA PENHA            0             1   \n",
              "\n",
              "   Diabetes  Alcoholism  Handcap  SMS_received No-show  \n",
              "0         0           0        0             0      No  \n",
              "1         0           0        0             0      No  \n",
              "2         0           0        0             0      No  \n",
              "3         0           0        0             0      No  \n",
              "4         1           0        0             0      No  "
            ],
            "text/html": [
              "\n",
              "  <div id=\"df-78a3e561-11bf-4b5f-bf13-eabce589f19a\" class=\"colab-df-container\">\n",
              "    <div>\n",
              "<style scoped>\n",
              "    .dataframe tbody tr th:only-of-type {\n",
              "        vertical-align: middle;\n",
              "    }\n",
              "\n",
              "    .dataframe tbody tr th {\n",
              "        vertical-align: top;\n",
              "    }\n",
              "\n",
              "    .dataframe thead th {\n",
              "        text-align: right;\n",
              "    }\n",
              "</style>\n",
              "<table border=\"1\" class=\"dataframe\">\n",
              "  <thead>\n",
              "    <tr style=\"text-align: right;\">\n",
              "      <th></th>\n",
              "      <th>PatientId</th>\n",
              "      <th>AppointmentID</th>\n",
              "      <th>Gender</th>\n",
              "      <th>ScheduledDay</th>\n",
              "      <th>AppointmentDay</th>\n",
              "      <th>Age</th>\n",
              "      <th>Neighbourhood</th>\n",
              "      <th>Scholarship</th>\n",
              "      <th>Hipertension</th>\n",
              "      <th>Diabetes</th>\n",
              "      <th>Alcoholism</th>\n",
              "      <th>Handcap</th>\n",
              "      <th>SMS_received</th>\n",
              "      <th>No-show</th>\n",
              "    </tr>\n",
              "  </thead>\n",
              "  <tbody>\n",
              "    <tr>\n",
              "      <th>0</th>\n",
              "      <td>2.987250e+13</td>\n",
              "      <td>5642903</td>\n",
              "      <td>F</td>\n",
              "      <td>2016-04-29T18:38:08Z</td>\n",
              "      <td>2016-04-29T00:00:00Z</td>\n",
              "      <td>62</td>\n",
              "      <td>JARDIM DA PENHA</td>\n",
              "      <td>0</td>\n",
              "      <td>1</td>\n",
              "      <td>0</td>\n",
              "      <td>0</td>\n",
              "      <td>0</td>\n",
              "      <td>0</td>\n",
              "      <td>No</td>\n",
              "    </tr>\n",
              "    <tr>\n",
              "      <th>1</th>\n",
              "      <td>5.589978e+14</td>\n",
              "      <td>5642503</td>\n",
              "      <td>M</td>\n",
              "      <td>2016-04-29T16:08:27Z</td>\n",
              "      <td>2016-04-29T00:00:00Z</td>\n",
              "      <td>56</td>\n",
              "      <td>JARDIM DA PENHA</td>\n",
              "      <td>0</td>\n",
              "      <td>0</td>\n",
              "      <td>0</td>\n",
              "      <td>0</td>\n",
              "      <td>0</td>\n",
              "      <td>0</td>\n",
              "      <td>No</td>\n",
              "    </tr>\n",
              "    <tr>\n",
              "      <th>2</th>\n",
              "      <td>4.262962e+12</td>\n",
              "      <td>5642549</td>\n",
              "      <td>F</td>\n",
              "      <td>2016-04-29T16:19:04Z</td>\n",
              "      <td>2016-04-29T00:00:00Z</td>\n",
              "      <td>62</td>\n",
              "      <td>MATA DA PRAIA</td>\n",
              "      <td>0</td>\n",
              "      <td>0</td>\n",
              "      <td>0</td>\n",
              "      <td>0</td>\n",
              "      <td>0</td>\n",
              "      <td>0</td>\n",
              "      <td>No</td>\n",
              "    </tr>\n",
              "    <tr>\n",
              "      <th>3</th>\n",
              "      <td>8.679512e+11</td>\n",
              "      <td>5642828</td>\n",
              "      <td>F</td>\n",
              "      <td>2016-04-29T17:29:31Z</td>\n",
              "      <td>2016-04-29T00:00:00Z</td>\n",
              "      <td>8</td>\n",
              "      <td>PONTAL DE CAMBURI</td>\n",
              "      <td>0</td>\n",
              "      <td>0</td>\n",
              "      <td>0</td>\n",
              "      <td>0</td>\n",
              "      <td>0</td>\n",
              "      <td>0</td>\n",
              "      <td>No</td>\n",
              "    </tr>\n",
              "    <tr>\n",
              "      <th>4</th>\n",
              "      <td>8.841186e+12</td>\n",
              "      <td>5642494</td>\n",
              "      <td>F</td>\n",
              "      <td>2016-04-29T16:07:23Z</td>\n",
              "      <td>2016-04-29T00:00:00Z</td>\n",
              "      <td>56</td>\n",
              "      <td>JARDIM DA PENHA</td>\n",
              "      <td>0</td>\n",
              "      <td>1</td>\n",
              "      <td>1</td>\n",
              "      <td>0</td>\n",
              "      <td>0</td>\n",
              "      <td>0</td>\n",
              "      <td>No</td>\n",
              "    </tr>\n",
              "  </tbody>\n",
              "</table>\n",
              "</div>\n",
              "    <div class=\"colab-df-buttons\">\n",
              "\n",
              "  <div class=\"colab-df-container\">\n",
              "    <button class=\"colab-df-convert\" onclick=\"convertToInteractive('df-78a3e561-11bf-4b5f-bf13-eabce589f19a')\"\n",
              "            title=\"Convert this dataframe to an interactive table.\"\n",
              "            style=\"display:none;\">\n",
              "\n",
              "  <svg xmlns=\"http://www.w3.org/2000/svg\" height=\"24px\" viewBox=\"0 -960 960 960\">\n",
              "    <path d=\"M120-120v-720h720v720H120Zm60-500h600v-160H180v160Zm220 220h160v-160H400v160Zm0 220h160v-160H400v160ZM180-400h160v-160H180v160Zm440 0h160v-160H620v160ZM180-180h160v-160H180v160Zm440 0h160v-160H620v160Z\"/>\n",
              "  </svg>\n",
              "    </button>\n",
              "\n",
              "  <style>\n",
              "    .colab-df-container {\n",
              "      display:flex;\n",
              "      gap: 12px;\n",
              "    }\n",
              "\n",
              "    .colab-df-convert {\n",
              "      background-color: #E8F0FE;\n",
              "      border: none;\n",
              "      border-radius: 50%;\n",
              "      cursor: pointer;\n",
              "      display: none;\n",
              "      fill: #1967D2;\n",
              "      height: 32px;\n",
              "      padding: 0 0 0 0;\n",
              "      width: 32px;\n",
              "    }\n",
              "\n",
              "    .colab-df-convert:hover {\n",
              "      background-color: #E2EBFA;\n",
              "      box-shadow: 0px 1px 2px rgba(60, 64, 67, 0.3), 0px 1px 3px 1px rgba(60, 64, 67, 0.15);\n",
              "      fill: #174EA6;\n",
              "    }\n",
              "\n",
              "    .colab-df-buttons div {\n",
              "      margin-bottom: 4px;\n",
              "    }\n",
              "\n",
              "    [theme=dark] .colab-df-convert {\n",
              "      background-color: #3B4455;\n",
              "      fill: #D2E3FC;\n",
              "    }\n",
              "\n",
              "    [theme=dark] .colab-df-convert:hover {\n",
              "      background-color: #434B5C;\n",
              "      box-shadow: 0px 1px 3px 1px rgba(0, 0, 0, 0.15);\n",
              "      filter: drop-shadow(0px 1px 2px rgba(0, 0, 0, 0.3));\n",
              "      fill: #FFFFFF;\n",
              "    }\n",
              "  </style>\n",
              "\n",
              "    <script>\n",
              "      const buttonEl =\n",
              "        document.querySelector('#df-78a3e561-11bf-4b5f-bf13-eabce589f19a button.colab-df-convert');\n",
              "      buttonEl.style.display =\n",
              "        google.colab.kernel.accessAllowed ? 'block' : 'none';\n",
              "\n",
              "      async function convertToInteractive(key) {\n",
              "        const element = document.querySelector('#df-78a3e561-11bf-4b5f-bf13-eabce589f19a');\n",
              "        const dataTable =\n",
              "          await google.colab.kernel.invokeFunction('convertToInteractive',\n",
              "                                                    [key], {});\n",
              "        if (!dataTable) return;\n",
              "\n",
              "        const docLinkHtml = 'Like what you see? Visit the ' +\n",
              "          '<a target=\"_blank\" href=https://colab.research.google.com/notebooks/data_table.ipynb>data table notebook</a>'\n",
              "          + ' to learn more about interactive tables.';\n",
              "        element.innerHTML = '';\n",
              "        dataTable['output_type'] = 'display_data';\n",
              "        await google.colab.output.renderOutput(dataTable, element);\n",
              "        const docLink = document.createElement('div');\n",
              "        docLink.innerHTML = docLinkHtml;\n",
              "        element.appendChild(docLink);\n",
              "      }\n",
              "    </script>\n",
              "  </div>\n",
              "\n",
              "\n",
              "<div id=\"df-f8d98e2b-07c7-42b9-aa33-9d420c3ccd61\">\n",
              "  <button class=\"colab-df-quickchart\" onclick=\"quickchart('df-f8d98e2b-07c7-42b9-aa33-9d420c3ccd61')\"\n",
              "            title=\"Suggest charts\"\n",
              "            style=\"display:none;\">\n",
              "\n",
              "<svg xmlns=\"http://www.w3.org/2000/svg\" height=\"24px\"viewBox=\"0 0 24 24\"\n",
              "     width=\"24px\">\n",
              "    <g>\n",
              "        <path d=\"M19 3H5c-1.1 0-2 .9-2 2v14c0 1.1.9 2 2 2h14c1.1 0 2-.9 2-2V5c0-1.1-.9-2-2-2zM9 17H7v-7h2v7zm4 0h-2V7h2v10zm4 0h-2v-4h2v4z\"/>\n",
              "    </g>\n",
              "</svg>\n",
              "  </button>\n",
              "\n",
              "<style>\n",
              "  .colab-df-quickchart {\n",
              "      --bg-color: #E8F0FE;\n",
              "      --fill-color: #1967D2;\n",
              "      --hover-bg-color: #E2EBFA;\n",
              "      --hover-fill-color: #174EA6;\n",
              "      --disabled-fill-color: #AAA;\n",
              "      --disabled-bg-color: #DDD;\n",
              "  }\n",
              "\n",
              "  [theme=dark] .colab-df-quickchart {\n",
              "      --bg-color: #3B4455;\n",
              "      --fill-color: #D2E3FC;\n",
              "      --hover-bg-color: #434B5C;\n",
              "      --hover-fill-color: #FFFFFF;\n",
              "      --disabled-bg-color: #3B4455;\n",
              "      --disabled-fill-color: #666;\n",
              "  }\n",
              "\n",
              "  .colab-df-quickchart {\n",
              "    background-color: var(--bg-color);\n",
              "    border: none;\n",
              "    border-radius: 50%;\n",
              "    cursor: pointer;\n",
              "    display: none;\n",
              "    fill: var(--fill-color);\n",
              "    height: 32px;\n",
              "    padding: 0;\n",
              "    width: 32px;\n",
              "  }\n",
              "\n",
              "  .colab-df-quickchart:hover {\n",
              "    background-color: var(--hover-bg-color);\n",
              "    box-shadow: 0 1px 2px rgba(60, 64, 67, 0.3), 0 1px 3px 1px rgba(60, 64, 67, 0.15);\n",
              "    fill: var(--button-hover-fill-color);\n",
              "  }\n",
              "\n",
              "  .colab-df-quickchart-complete:disabled,\n",
              "  .colab-df-quickchart-complete:disabled:hover {\n",
              "    background-color: var(--disabled-bg-color);\n",
              "    fill: var(--disabled-fill-color);\n",
              "    box-shadow: none;\n",
              "  }\n",
              "\n",
              "  .colab-df-spinner {\n",
              "    border: 2px solid var(--fill-color);\n",
              "    border-color: transparent;\n",
              "    border-bottom-color: var(--fill-color);\n",
              "    animation:\n",
              "      spin 1s steps(1) infinite;\n",
              "  }\n",
              "\n",
              "  @keyframes spin {\n",
              "    0% {\n",
              "      border-color: transparent;\n",
              "      border-bottom-color: var(--fill-color);\n",
              "      border-left-color: var(--fill-color);\n",
              "    }\n",
              "    20% {\n",
              "      border-color: transparent;\n",
              "      border-left-color: var(--fill-color);\n",
              "      border-top-color: var(--fill-color);\n",
              "    }\n",
              "    30% {\n",
              "      border-color: transparent;\n",
              "      border-left-color: var(--fill-color);\n",
              "      border-top-color: var(--fill-color);\n",
              "      border-right-color: var(--fill-color);\n",
              "    }\n",
              "    40% {\n",
              "      border-color: transparent;\n",
              "      border-right-color: var(--fill-color);\n",
              "      border-top-color: var(--fill-color);\n",
              "    }\n",
              "    60% {\n",
              "      border-color: transparent;\n",
              "      border-right-color: var(--fill-color);\n",
              "    }\n",
              "    80% {\n",
              "      border-color: transparent;\n",
              "      border-right-color: var(--fill-color);\n",
              "      border-bottom-color: var(--fill-color);\n",
              "    }\n",
              "    90% {\n",
              "      border-color: transparent;\n",
              "      border-bottom-color: var(--fill-color);\n",
              "    }\n",
              "  }\n",
              "</style>\n",
              "\n",
              "  <script>\n",
              "    async function quickchart(key) {\n",
              "      const quickchartButtonEl =\n",
              "        document.querySelector('#' + key + ' button');\n",
              "      quickchartButtonEl.disabled = true;  // To prevent multiple clicks.\n",
              "      quickchartButtonEl.classList.add('colab-df-spinner');\n",
              "      try {\n",
              "        const charts = await google.colab.kernel.invokeFunction(\n",
              "            'suggestCharts', [key], {});\n",
              "      } catch (error) {\n",
              "        console.error('Error during call to suggestCharts:', error);\n",
              "      }\n",
              "      quickchartButtonEl.classList.remove('colab-df-spinner');\n",
              "      quickchartButtonEl.classList.add('colab-df-quickchart-complete');\n",
              "    }\n",
              "    (() => {\n",
              "      let quickchartButtonEl =\n",
              "        document.querySelector('#df-f8d98e2b-07c7-42b9-aa33-9d420c3ccd61 button');\n",
              "      quickchartButtonEl.style.display =\n",
              "        google.colab.kernel.accessAllowed ? 'block' : 'none';\n",
              "    })();\n",
              "  </script>\n",
              "</div>\n",
              "\n",
              "    </div>\n",
              "  </div>\n"
            ],
            "application/vnd.google.colaboratory.intrinsic+json": {
              "type": "dataframe",
              "variable_name": "no_show_df"
            }
          },
          "metadata": {},
          "execution_count": 77
        }
      ]
    },
    {
      "cell_type": "code",
      "source": [
        "print(no_show_df.columns)"
      ],
      "metadata": {
        "colab": {
          "base_uri": "https://localhost:8080/"
        },
        "id": "YUMh2K2SBSd1",
        "outputId": "99bb2192-4623-489a-8fb5-874bed0c2445"
      },
      "execution_count": 79,
      "outputs": [
        {
          "output_type": "stream",
          "name": "stdout",
          "text": [
            "Index(['PatientId', 'AppointmentID', 'Gender', 'ScheduledDay',\n",
            "       'AppointmentDay', 'Age', 'Neighbourhood', 'Scholarship', 'Hipertension',\n",
            "       'Diabetes', 'Alcoholism', 'Handcap', 'SMS_received', 'No-show'],\n",
            "      dtype='object')\n"
          ]
        }
      ]
    },
    {
      "cell_type": "code",
      "source": [
        "from sklearn.model_selection import train_test_split, RandomizedSearchCV\n",
        "from xgboost import XGBRegressor\n",
        "from sklearn.metrics import classification_report, confusion_matrix\n",
        "from imblearn.over_sampling import SMOTE\n",
        "import pandas as pd\n",
        "import numpy as np\n",
        "\n",
        "# 1. Preprocessing\n",
        "# Convert 'No-show' to binary (1: Missed, 0: Attended)\n",
        "no_show_df['No-show'] = no_show_df['No-show'].map({'No': 0, 'Yes': 1})\n",
        "\n",
        "# Convert 'AppointmentDay' to 'DayOfWeek' ('Monday', 'Tuesday', 'Wednesday', 'Thursday', 'Friday', 'Saturday', 'Sunday')\n",
        "no_show_df['AppointmentDay'] = pd.to_datetime(no_show_df['AppointmentDay'])\n",
        "no_show_df['DayOfWeek'] = no_show_df['AppointmentDay'].dt.day_name()\n",
        "\n",
        "# Drop uninformative features\n",
        "columns_to_drop = ['AppointmentID', 'PatientId', 'ScheduledDay', 'AppointmentDay']\n",
        "no_show_df = no_show_df.drop(columns=columns_to_drop)"
      ],
      "metadata": {
        "id": "-FA_JwAM-Fid"
      },
      "execution_count": 80,
      "outputs": []
    },
    {
      "cell_type": "markdown",
      "source": [
        "### Fixing Neighbourhood\n",
        "\n",
        "The original Neighbourhood feature contains many unique categories (e.g., neighborhood names). Using all categories as one-hot encoded variables would:\n",
        "\n",
        "1. Increase Complexity: One-hot encoding a large number of categories leads to high-dimensional data, which can cause overfitting and slow down computations.\n",
        "2. Add Noise: Many neighborhoods may have a similar attendance pattern, so retaining them individually adds little value.\n",
        "\n",
        "This code simplifies the Neighbourhood feature by grouping it into broader categories based on average no-show rates."
      ],
      "metadata": {
        "id": "RwQZI81Tolm3"
      }
    },
    {
      "cell_type": "code",
      "source": [
        "# Simplify 'Neighbourhood'\n",
        "neighbourhood_stats = no_show_df.groupby('Neighbourhood')['No-show'].mean()\n",
        "\n",
        "# Define thresholds dynamically using percentiles\n",
        "low_threshold = neighbourhood_stats.quantile(0.25)  # 25th percentile\n",
        "high_threshold = neighbourhood_stats.quantile(0.75)  # 75th percentile\n",
        "\n",
        "# Define attendance groups\n",
        "high_attendance = neighbourhood_stats[neighbourhood_stats < low_threshold].index\n",
        "medium_attendance = neighbourhood_stats[(neighbourhood_stats >= low_threshold) &\n",
        "                                        (neighbourhood_stats < high_threshold)].index\n",
        "low_attendance = neighbourhood_stats[neighbourhood_stats >= high_threshold].index\n",
        "\n",
        "# Map neighborhoods to groups\n",
        "def map_neighbourhood(neighbourhood):\n",
        "    if neighbourhood in high_attendance:\n",
        "        return 'High Attendance'\n",
        "    elif neighbourhood in medium_attendance:\n",
        "        return 'Medium Attendance'\n",
        "    else:\n",
        "        return 'Low Attendance'\n",
        "\n",
        "no_show_df['Neighbourhood_Group'] = no_show_df['Neighbourhood'].apply(map_neighbourhood)\n"
      ],
      "metadata": {
        "id": "arayMZyFnb7J"
      },
      "execution_count": 81,
      "outputs": []
    },
    {
      "cell_type": "markdown",
      "source": [
        "### Fixing Age Group Errors\n",
        "\n",
        "Problem:\n",
        "\n",
        "The model underestimates the likelihood of no-shows for younger age groups (0–30) and performs better for patients above 60 years old.\n",
        "\n",
        "Solution:\n",
        "\n",
        "Create an age group feature to explicitly model these differences.\n",
        "Use bins like <18, 18–30, 30–60, and >60 to group patients based on attendance trends.\n"
      ],
      "metadata": {
        "id": "WNad77gl97zG"
      }
    },
    {
      "cell_type": "code",
      "source": [
        "print(no_show_df['Neighbourhood_Group'].value_counts())\n"
      ],
      "metadata": {
        "colab": {
          "base_uri": "https://localhost:8080/"
        },
        "id": "BwC2v8nOoJdr",
        "outputId": "f374e4fa-6efe-40ed-8d7b-152dd4e50420"
      },
      "execution_count": 82,
      "outputs": [
        {
          "output_type": "stream",
          "name": "stdout",
          "text": [
            "Neighbourhood_Group\n",
            "Medium Attendance    61162\n",
            "Low Attendance       26816\n",
            "High Attendance      22549\n",
            "Name: count, dtype: int64\n"
          ]
        }
      ]
    },
    {
      "cell_type": "code",
      "source": [
        "# Create Age_Group\n",
        "\n",
        "bins = [0, 18, 30, 60, 120]\n",
        "labels = ['Under 18', '18-30', '30-60', 'Over 60']\n",
        "no_show_df['Age_Group'] = pd.cut(no_show_df['Age'], bins=bins, labels=labels)\n",
        "no_show_df = pd.get_dummies(no_show_df, columns=['Age_Group'], drop_first=True)\n",
        "no_show_df = pd.get_dummies(no_show_df, columns=['Gender'], drop_first=True)"
      ],
      "metadata": {
        "id": "DnpbNUJqnaZT"
      },
      "execution_count": 83,
      "outputs": []
    },
    {
      "cell_type": "code",
      "source": [
        "# Covert DayOfWeek ti dummy\n",
        "no_show_df = pd.get_dummies(no_show_df, columns=['DayOfWeek'], drop_first=True)"
      ],
      "metadata": {
        "id": "wm_QlGk8HXwb"
      },
      "execution_count": 84,
      "outputs": []
    },
    {
      "cell_type": "code",
      "source": [
        "X = no_show_df.drop(['No-show', 'Neighbourhood', 'Age'], axis=1).copy()\n",
        "y = no_show_df['No-show'].copy()\n",
        "\n",
        "print(X.columns)"
      ],
      "metadata": {
        "colab": {
          "base_uri": "https://localhost:8080/"
        },
        "id": "3rUA9GWYfRAv",
        "outputId": "ec8b0f9e-3c11-45f9-9d24-a459d2fe6cda"
      },
      "execution_count": 85,
      "outputs": [
        {
          "output_type": "stream",
          "name": "stdout",
          "text": [
            "Index(['Scholarship', 'Hipertension', 'Diabetes', 'Alcoholism', 'Handcap',\n",
            "       'SMS_received', 'Neighbourhood_Group', 'Age_Group_18-30',\n",
            "       'Age_Group_30-60', 'Age_Group_Over 60', 'Gender_M', 'DayOfWeek_Monday',\n",
            "       'DayOfWeek_Saturday', 'DayOfWeek_Thursday', 'DayOfWeek_Tuesday',\n",
            "       'DayOfWeek_Wednesday'],\n",
            "      dtype='object')\n"
          ]
        }
      ]
    },
    {
      "cell_type": "markdown",
      "source": [
        "###Handle Class Imbalance:\n",
        "\n",
        "I choose to use SMOTE, there are many other techniques to handle the imbalance data.\n",
        "\n",
        "SMOTE (Synthetic Minority Oversampling Technique in machine learning) works by randomly picking a point from the minority class and computing the k-nearest neighbors for this point. The synthetic points are added between the chosen point and its neighbors.\n",
        "\n",
        "Reference : [analytics vidhya](https://www.analyticsvidhya.com/articles/class-imbalance-in-machine-learning/#How_to_Balance_Data_With_the_Imbalanced-Learn_Python_Module?)\n",
        "\n"
      ],
      "metadata": {
        "id": "rI_NL_vpqd66"
      }
    },
    {
      "cell_type": "code",
      "source": [
        "# Verify that all columns in X are numeric for apllying SMOTE\n",
        "print(X.dtypes)"
      ],
      "metadata": {
        "colab": {
          "base_uri": "https://localhost:8080/"
        },
        "id": "tIKsmJ8qrZLI",
        "outputId": "4b1b19c7-99cd-41f5-90df-60be9e83f5b4"
      },
      "execution_count": 86,
      "outputs": [
        {
          "output_type": "stream",
          "name": "stdout",
          "text": [
            "Scholarship             int64\n",
            "Hipertension            int64\n",
            "Diabetes                int64\n",
            "Alcoholism              int64\n",
            "Handcap                 int64\n",
            "SMS_received            int64\n",
            "Neighbourhood_Group    object\n",
            "Age_Group_18-30          bool\n",
            "Age_Group_30-60          bool\n",
            "Age_Group_Over 60        bool\n",
            "Gender_M                 bool\n",
            "DayOfWeek_Monday         bool\n",
            "DayOfWeek_Saturday       bool\n",
            "DayOfWeek_Thursday       bool\n",
            "DayOfWeek_Tuesday        bool\n",
            "DayOfWeek_Wednesday      bool\n",
            "dtype: object\n"
          ]
        }
      ]
    },
    {
      "cell_type": "code",
      "source": [
        "from sklearn.preprocessing import LabelEncoder\n",
        "\n",
        "# Fix X values to int, it is necessary for using SMOTE\n",
        "\n",
        "# Use Label encoder for Neighbourhood_Group\n",
        "label_encoder = LabelEncoder()\n",
        "X['Neighbourhood_Group'] = label_encoder.fit_transform(X['Neighbourhood_Group'])\n",
        "\n",
        "# Convert boolean columns (e.g., Age_Group_18-30, Age_Group_30-60, Age_Group_Over 60) into integers (0 and 1).\n",
        "bool_columns = ['Age_Group_18-30', 'Age_Group_30-60', 'Age_Group_Over 60', 'Gender_M', 'DayOfWeek_Monday', 'DayOfWeek_Saturday',\n",
        "'DayOfWeek_Thursday', 'DayOfWeek_Tuesday', 'DayOfWeek_Wednesday']\n",
        "X[bool_columns] = X[bool_columns].astype(int)\n"
      ],
      "metadata": {
        "id": "v2Qyy0C6rtx8"
      },
      "execution_count": 87,
      "outputs": []
    },
    {
      "cell_type": "markdown",
      "source": [
        "Applying SMOTE"
      ],
      "metadata": {
        "id": "aoMPK9xjKrom"
      }
    },
    {
      "cell_type": "code",
      "source": [
        "from sklearn.model_selection import train_test_split\n",
        "from imblearn.over_sampling import SMOTE\n",
        "\n",
        "# Train-Test Split\n",
        "X_train, X_test, y_train, y_test = train_test_split(X, y, test_size=0.2, stratify=y, random_state=42)\n",
        "\n",
        "# Handle Class Imbalance with SMOTE\n",
        "smote = SMOTE(random_state=42)\n",
        "X_train_balanced, y_train_balanced = smote.fit_resample(X_train, y_train)\n",
        "\n",
        "# Print the new class distribution\n",
        "print(\"Class distribution before balancing:\")\n",
        "print(y_train.value_counts())\n",
        "print(\"\\nClass distribution after balancing:\")\n",
        "print(pd.Series(y_train_balanced).value_counts())\n"
      ],
      "metadata": {
        "colab": {
          "base_uri": "https://localhost:8080/"
        },
        "id": "oYN4oalhe7NC",
        "outputId": "a78acdee-9f00-4e05-82c1-aad29c455216"
      },
      "execution_count": 88,
      "outputs": [
        {
          "output_type": "stream",
          "name": "stdout",
          "text": [
            "Class distribution before balancing:\n",
            "No-show\n",
            "0    70566\n",
            "1    17855\n",
            "Name: count, dtype: int64\n",
            "\n",
            "Class distribution after balancing:\n",
            "No-show\n",
            "0    70566\n",
            "1    70566\n",
            "Name: count, dtype: int64\n"
          ]
        }
      ]
    },
    {
      "cell_type": "markdown",
      "source": [
        "Apply Randomized search on hyper parameters.\n",
        "\n",
        "RandomizedSearchCV implements a “fit” and a “score” method. It also implements “score_samples”, “predict”, “predict_proba”, “decision_function”, “transform” and “inverse_transform” if they are implemented in the estimator used.\n",
        "\n",
        "ref [Scikit-learn docs](https://scikit-learn.org/1.5/modules/generated/sklearn.model_selection.RandomizedSearchCV.html)"
      ],
      "metadata": {
        "id": "yLf1ZMIAK8Zt"
      }
    },
    {
      "cell_type": "code",
      "source": [
        "# Hyperparameter Tuning\n",
        "param_grid = {\n",
        "    'n_estimators': [100, 150],\n",
        "    'max_depth': [3, 5],\n",
        "    'learning_rate': [0.1, 0.2],\n",
        "    'subsample': [0.8],\n",
        "    'colsample_bytree': [0.8],\n",
        "    'reg_alpha': [0, 0.01],\n",
        "    'reg_lambda': [1, 1.5]\n",
        "}\n",
        "\n",
        "xgb_model = XGBRegressor(random_state=42, objective='reg:squarederror')\n",
        "random_search = RandomizedSearchCV(estimator=xgb_model, param_distributions=param_grid,\n",
        "                                   n_iter=50, cv=3, verbose=2, random_state=42, n_jobs=-1)\n",
        "\n",
        "# Train Randomized Search on balanced training data\n",
        "random_search.fit(X_train_balanced, y_train_balanced)\n",
        "\n",
        "# Evaluate the Model with Binary Thresholding\n",
        "best_model = random_search.best_estimator_\n",
        "y_pred = best_model.predict(X_test)\n",
        "\n",
        "# Apply threshold to convert predictions to binary\n",
        "y_pred_binary = (y_pred >= 0.5).astype(int)"
      ],
      "metadata": {
        "colab": {
          "base_uri": "https://localhost:8080/"
        },
        "id": "o3HJaxAEqZDG",
        "outputId": "59cae052-c05e-4702-bd72-9c8d7ef522f1"
      },
      "execution_count": 89,
      "outputs": [
        {
          "output_type": "stream",
          "name": "stdout",
          "text": [
            "Fitting 3 folds for each of 32 candidates, totalling 96 fits\n"
          ]
        },
        {
          "output_type": "stream",
          "name": "stderr",
          "text": [
            "/usr/local/lib/python3.11/dist-packages/sklearn/model_selection/_search.py:307: UserWarning: The total space of parameters 32 is smaller than n_iter=50. Running 32 iterations. For exhaustive searches, use GridSearchCV.\n",
            "  warnings.warn(\n"
          ]
        }
      ]
    },
    {
      "cell_type": "markdown",
      "source": [
        "# 3. Analyzing the Improved Model"
      ],
      "metadata": {
        "id": "gV466Jm_R0vG"
      }
    },
    {
      "cell_type": "markdown",
      "source": [
        "### Feature Importance"
      ],
      "metadata": {
        "id": "mBrUe-lXLGw-"
      }
    },
    {
      "cell_type": "code",
      "source": [
        "import matplotlib.pyplot as plt\n",
        "import pandas as pd\n",
        "\n",
        "# Get feature importance scores\n",
        "feature_importance = best_model.feature_importances_\n",
        "\n",
        "# Map feature importance to feature names\n",
        "feature_names = X_train.columns\n",
        "importance_df = pd.DataFrame({\n",
        "    'Feature': feature_names,\n",
        "    'Importance': feature_importance\n",
        "}).sort_values(by='Importance', ascending=False)\n",
        "\n",
        "# Display the importance DataFrame\n",
        "print(importance_df)\n",
        "\n",
        "# Plot the top 10 most important features\n",
        "plt.figure(figsize=(10, 6))\n",
        "plt.barh(importance_df['Feature'][:10][::-1], importance_df['Importance'][:10][::-1])\n",
        "plt.xlabel('Importance')\n",
        "plt.ylabel('Feature')\n",
        "plt.title('Top 10 Feature Importances')\n",
        "plt.show()\n"
      ],
      "metadata": {
        "colab": {
          "base_uri": "https://localhost:8080/",
          "height": 859
        },
        "id": "Ah-b1Z5o7Dnv",
        "outputId": "4acd8770-65c0-4cf2-9d2b-f81f3b3d6933"
      },
      "execution_count": 102,
      "outputs": [
        {
          "output_type": "stream",
          "name": "stdout",
          "text": [
            "                Feature  Importance\n",
            "5          SMS_received    0.304517\n",
            "9     Age_Group_Over 60    0.134544\n",
            "8       Age_Group_30-60    0.066079\n",
            "6   Neighbourhood_Group    0.061104\n",
            "14    DayOfWeek_Tuesday    0.048454\n",
            "7       Age_Group_18-30    0.043168\n",
            "1          Hipertension    0.042826\n",
            "11     DayOfWeek_Monday    0.040374\n",
            "0           Scholarship    0.038182\n",
            "15  DayOfWeek_Wednesday    0.035786\n",
            "10             Gender_M    0.034535\n",
            "13   DayOfWeek_Thursday    0.034316\n",
            "4               Handcap    0.033857\n",
            "3            Alcoholism    0.032042\n",
            "2              Diabetes    0.030612\n",
            "12   DayOfWeek_Saturday    0.019603\n"
          ]
        },
        {
          "output_type": "display_data",
          "data": {
            "text/plain": [
              "<Figure size 1000x600 with 1 Axes>"
            ],
            "image/png": "[encoded data removed]"
          },
          "metadata": {}
        }
      ]
    },
    {
      "cell_type": "markdown",
      "source": [
        "### Observations and Recommendations:\n",
        "1. SMS Reminders Are Crucial:\n",
        "  * The high importance of SMS_received underscores the effectiveness of reminder systems in improving attendance rates.\n",
        "  *  Actionable Insight: Healthcare providers should invest in robust reminder systems (e.g., SMS, phone calls) to reduce no-show rates.\n",
        "\n",
        "2. Age Groups Require Targeted Interventions:\n",
        "  * Older patients (Over 60) and middle-aged patients (30-60) are relatively predictable, but strategies should focus on improving attendance among younger patients (18-30).\n",
        "  * Actionable Insight: Tailored outreach programs for younger individuals, such as flexible scheduling or better communication, might improve attendance in this demographic.\n",
        "\n",
        "3. Geographic Factors Matter:\n",
        "  * The Neighbourhood_Group feature highlights disparities across regions.\n",
        "  * Actionable Insight: Analyze specific neighborhoods with low attendance rates to address barriers like transportation or accessibility.\n",
        "\n",
        "4. Optimize Scheduling by Day:\n",
        "  * The importance of certain days (e.g., Tuesday) suggests trends in attendance based on the day of the week.\n",
        "  * Actionable Insight: Identify and allocate resources to days with higher attendance while promoting underutilized days to balance workloads."
      ],
      "metadata": {
        "id": "uy_LS1S0MDJX"
      }
    },
    {
      "cell_type": "markdown",
      "source": [
        "### classification report and confussion matrix"
      ],
      "metadata": {
        "id": "nLumUwN_Mh7y"
      }
    },
    {
      "cell_type": "code",
      "source": [
        "# Print evaluation metrics\n",
        "print(\"Best Parameters:\", random_search.best_params_)\n",
        "print(\"\\nConfusion Matrix:\\n\", confusion_matrix(y_test, y_pred_binary))\n",
        "print(\"\\nClassification Report:\\n\", classification_report(y_test, y_pred_binary))"
      ],
      "metadata": {
        "colab": {
          "base_uri": "https://localhost:8080/"
        },
        "id": "5CfcepNN2wxs",
        "outputId": "0d4ed81f-3547-4f9f-c479-edaeb65f70f8"
      },
      "execution_count": 103,
      "outputs": [
        {
          "output_type": "stream",
          "name": "stdout",
          "text": [
            "Best Parameters: {'subsample': 0.8, 'reg_lambda': 1, 'reg_alpha': 0.01, 'n_estimators': 150, 'max_depth': 5, 'learning_rate': 0.2, 'colsample_bytree': 0.8}\n",
            "\n",
            "Confusion Matrix:\n",
            " [[10612  7030]\n",
            " [ 1934  2530]]\n",
            "\n",
            "Classification Report:\n",
            "               precision    recall  f1-score   support\n",
            "\n",
            "           0       0.85      0.60      0.70     17642\n",
            "           1       0.26      0.57      0.36      4464\n",
            "\n",
            "    accuracy                           0.59     22106\n",
            "   macro avg       0.56      0.58      0.53     22106\n",
            "weighted avg       0.73      0.59      0.63     22106\n",
            "\n"
          ]
        }
      ]
    },
    {
      "cell_type": "code",
      "source": [
        "from sklearn.metrics import confusion_matrix, classification_report\n",
        "import seaborn as sns\n",
        "\n",
        "# Confusion Matrix Plot with Clearer Labels\n",
        "conf_matrix = confusion_matrix(y_test, y_pred_binary)\n",
        "\n",
        "plt.figure(figsize=(6, 4))\n",
        "sns.heatmap(conf_matrix, annot=True, fmt='d', cmap='Blues',\n",
        "            xticklabels=['Attended', 'Missed'], yticklabels=['Attended', 'Missed'])\n",
        "plt.title('Confusion Matrix')\n",
        "plt.xlabel('Predicted')\n",
        "plt.ylabel('Actual')\n",
        "plt.show()"
      ],
      "metadata": {
        "colab": {
          "base_uri": "https://localhost:8080/",
          "height": 410
        },
        "id": "EXFwJSmYMmBu",
        "outputId": "c9d05b7f-fb23-462c-fd92-2bdc3aba7f70"
      },
      "execution_count": 104,
      "outputs": [
        {
          "output_type": "display_data",
          "data": {
            "text/plain": [
              "<Figure size 600x400 with 2 Axes>"
            ],
            "image/png": "[encoded data removed]"
          },
          "metadata": {}
        }
      ]
    },
    {
      "cell_type": "markdown",
      "source": [
        "### Performance Metrics\n",
        "1. Confusion Matrix Insights:\n",
        "\n",
        "*  Positives (Missed correctly predicted): 2,530\n",
        "*  True Negatives (Attended correctly predicted): 10,612\n",
        "*  False Positives (Attended predicted as Missed): 7,030\n",
        "*  False Negatives (Missed predicted as Attended): 1,934\n",
        "\n",
        "Key Issue: The model struggles to correctly identify missed appointments, evident in the high false positive rate (patients predicted to miss but actually attend).\n",
        "\n",
        "2. Recall\n",
        "\n",
        "  * Missed Recall - The model identifies 57% of the missed appointments, an improvement from the previous 6% recall.\n",
        "\n",
        "  * Attended Recall - The model identifies 60% of the attended cases, it slightly better but still misses a significant portion.\n",
        "\n",
        "3. Precision\n",
        "\n",
        "  * Missed Precision - 26%, low precision indicates the model predicts many false positives (patients predicted to miss but actually attend).\n",
        "\n",
        "  * Attended Precision - 85%, The model is much more precise at predicting attendees.\n",
        "\n",
        "4. F1 Score\n",
        "\n",
        "  * For Missed cass - 36%(0.36), Low F1-Score highlights the model's continued struggle with the minority class, still, this better then part 1 model that had 10%(0.1).\n",
        "\n",
        "### Comparison to Previous Results\n",
        "  * The recall for the \"Missed\" class improved from 6% to 57%, indicating the model better identifies no-shows.\n",
        "  * However, precision for the \"Missed\" class remains low (26%), meaning the model generates many false positives.\n",
        "  * Imbalanced data still influences performance, requiring further improvements."
      ],
      "metadata": {
        "id": "46bzWujKPAMr"
      }
    },
    {
      "cell_type": "markdown",
      "source": [
        "### ROC-AUC"
      ],
      "metadata": {
        "id": "SqVHmu-yQ1oJ"
      }
    },
    {
      "cell_type": "code",
      "source": [
        "from sklearn.metrics import roc_curve, auc\n",
        "import matplotlib.pyplot as plt\n",
        "\n",
        "# Calculate predicted probabilities\n",
        "y_pred_prob = best_model.predict(X_test)\n",
        "\n",
        "# Compute ROC curve and ROC area for the \"Missed\" class (label = 1)\n",
        "fpr, tpr, _ = roc_curve(y_test, y_pred_prob)\n",
        "roc_auc = auc(fpr, tpr)\n",
        "\n",
        "# Plot the ROC curve\n",
        "plt.figure(figsize=(8, 6))\n",
        "plt.plot(fpr, tpr, color='blue', lw=2, label=f'ROC curve (AUC = {roc_auc:.2f})')\n",
        "plt.plot([0, 1], [0, 1], color='gray', lw=2, linestyle='--', label='Random Guess')\n",
        "plt.xlabel('False Positive Rate')\n",
        "plt.ylabel('True Positive Rate')\n",
        "plt.title('Receiver Operating Characteristic (ROC) Curve')\n",
        "plt.legend(loc=\"lower right\")\n",
        "plt.grid(alpha=0.3)\n",
        "plt.show()\n"
      ],
      "metadata": {
        "colab": {
          "base_uri": "https://localhost:8080/",
          "height": 564
        },
        "id": "Luu7waYgQyVD",
        "outputId": "69838539-e105-4efb-e36a-d09fbf07e42e"
      },
      "execution_count": 105,
      "outputs": [
        {
          "output_type": "display_data",
          "data": {
            "text/plain": [
              "<Figure size 800x600 with 1 Axes>"
            ],
            "image/png": "[encoded data removed]"
          },
          "metadata": {}
        }
      ]
    },
    {
      "cell_type": "markdown",
      "source": [
        "1. AUC (Area Under the Curve):\n",
        "\n",
        "  * The AUC score is 0.61, indicating that the model's ability to distinguish between the \"Attended\" and \"Missed\" classes is slightly better than random guessing (AUC = 0.5).\n",
        "  * However, it suggests that the model's overall predictive power is weak and can be improved.\n",
        "\n",
        "2. True Positive Rate (TPR) vs. False Positive Rate (FPR):\n",
        "\n",
        "  * The curve indicates how well the model balances between correctly identifying \"Missed\" cases (sensitivity) and incorrectly predicting \"Missed\" for \"Attended\" cases (false positives).\n",
        "  *  A steep rise in the TPR at lower FPR values would indicate strong performance, but this plot shows a gradual rise, suggesting limited model sensitivity.\n",
        "\n",
        "3. Key Observations:\n",
        "\n",
        "  * The model is not effective in accurately predicting the minority class (Missed appointments), likely due to the class imbalance in the dataset.\n",
        "  * This aligns with earlier findings, where the recall and precision for the \"Missed\" class were suboptimal."
      ],
      "metadata": {
        "id": "b21aCSCqRRH3"
      }
    },
    {
      "cell_type": "markdown",
      "source": [
        "## 4. Drawing Conclusions About the Data & Creative Applications\n",
        "\n",
        "1.Feature Significance\n",
        "  * Top Features:\n",
        "\n",
        "    * SMS_received: The most influential feature, significantly impacting whether patients attend their appointments. This highlights the critical role of reminders.\n",
        "    * Age_Group_Over 60: Older patients are more likely to attend, showing age as a strong predictor of attendance behavior.\n",
        "    * Neighbourhood_Group: Geographic factors influence attendance, suggesting socio-economic or accessibility barriers.\n",
        "    * DayOfWeek_Tuesday: Attendance patterns vary by the day of the week, with Tuesday showing more importance than other days.\n",
        "\n",
        "  * Less Important Features:\n",
        "\n",
        "    * Scholarship has limited influence, indicating financial aid may not directly correlate with attendance.\n",
        "    * Hipertension plays a minor role despite being a common chronic condition, which could indicate better management by such patients.\n",
        "\n",
        "We already Data Insights in [previous part](https://colab.research.google.com/drive/1SeJBEso-ZjNWpdQ33dLuI07pOCDoHu1r#scrollTo=uy_LS1S0MDJX) of this notebook\n",
        "\n",
        "2.Biases or Trends\n",
        "* Class Imbalance:\n",
        "\n",
        "  * The dataset's bias toward \"Attended\" cases affects model predictions, as seen in the confusion matrix and AUC score. Although recall for the \"Missed\" class improved, the model struggles with precision for this group.\n",
        "\n",
        "* Age Group Trends:\n",
        "\n",
        "  * Younger patients (18-30) are less predictable, with lower feature importance. Strategies targeting this demographic could improve attendance.\n",
        "\n",
        "* Geographic Disparities:\n",
        "\n",
        "    * The importance of Neighbourhood_Group suggests attendance is influenced by location-based factors such as transport, clinic accessibility, or socio-economic barriers.\n",
        "    \n",
        "3.User-Friendly Narrative\n",
        "\n",
        "This analysis reveals that timely SMS reminders, age, and geographic factors are key drivers of appointment attendance. Older patients are more likely to attend, whereas younger demographics present challenges. Additionally, attendance trends vary by day, with Tuesday showing higher importance.\n",
        "\n",
        "4.Potential Applications\n",
        "\n",
        "1. Improving Patient Engagement:\n",
        "\n",
        "  * Implement enhanced reminder systems (e.g., SMS, phone calls, or email) targeting younger patients to reduce no-shows.\n",
        "2. Geographic Accessibility Programs:\n",
        "\n",
        "  * Identify neighborhoods with low attendance and explore solutions like mobile clinics or transportation assistance.\n",
        "\n",
        "5.Improvements Made and Their Impact\n",
        "1. Feature Engineering:\n",
        "\n",
        "  * Simplified categorical features (Neighbourhood_Group) with Label Encoding for computational efficiency.\n",
        "  * Introduced meaningful age groups (Age_Group) to capture attendance patterns by demographic.\n",
        "  * Impact: Improved model interpretability and highlighted actionable insights (e.g., reminders and neighborhood disparities).\n",
        "2. Class Imbalance Handling (SMOTE):\n",
        "\n",
        "  * Applied SMOTE to balance the dataset, increasing the model's ability to detect \"Missed\" cases.\n",
        "  * Impact: Recall for \"Missed\" improved from 6% to 57%, significantly enhancing sensitivity.\n",
        "3. Model Optimization:\n",
        "\n",
        "  * Used hyperparameter tuning to refine the XGBoost model for better performance.\n",
        "  * Impact: Improved overall classification performance, as reflected in the confusion matrix and ROC-AUC (0.61).\n",
        "\n"
      ],
      "metadata": {
        "id": "ZRXXvmSkTHUb"
      }
    }
  ]
}